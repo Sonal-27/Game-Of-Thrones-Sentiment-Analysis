{
 "cells": [
  {
   "cell_type": "markdown",
   "id": "a5d5fb04",
   "metadata": {},
   "source": [
    "# Sentiment Analysis On Game Of Thrones\n",
    
   ]
  },
  {
   "cell_type": "code",
   "execution_count": null,
   "id": "8ba80f7b",
   "metadata": {},
   "outputs": [],
   "source": []
  },
  {
   "cell_type": "code",
   "execution_count": 24,
   "id": "e70ca881",
   "metadata": {},
   "outputs": [],
   "source": [
    "import pandas as pd\n",
    "import nltk\n",
    "from nltk.corpus import stopwords\n",
    "from nltk.stem import PorterStemmer \n",
    "from nltk.tokenize import word_tokenize\n",
    "import re\n",
    "from vaderSentiment.vaderSentiment import SentimentIntensityAnalyzer\n",
    "import seaborn as sns"
   ]
  },
  {
   "cell_type": "markdown",
   "id": "d2352a57",
   "metadata": {},
   "source": [
    "### Importing the Data"
   ]
  },
  {
   "cell_type": "code",
   "execution_count": 25,
   "id": "a5dc3b0b",
   "metadata": {},
   "outputs": [],
   "source": [
    "# load the comments.csv file into a pandas dataframe\n",
    "df = pd.read_csv('comments.csv')"
   ]
  },
  {
   "cell_type": "markdown",
   "id": "0edd0297",
   "metadata": {},
   "source": [
    "### Data Preprocessing:"
   ]
  },
  {
   "cell_type": "code",
   "execution_count": 26,
   "id": "adb21d4a",
   "metadata": {},
   "outputs": [],
   "source": [
    "def preprocess_data(df):\n",
    "    # drop irrelevant columns\n",
    "    df.drop([\"url\", \"id\", \"user\", \"conversationId\", \"lang\", \"source\", \"sourceUrl\", \"sourceLabel\", \n",
    "         \"links\", \"media\", \"retweetedTweet\", \"renderedContent\", \"quotedTweet\", \"inReplyToTweetId\", \"inReplyToUser\", \n",
    "         \"mentionedUsers\", \"coordinates\", \"place\", \"hashtags\", \"cashtags\", \"card\", \"viewCount\", \"vibe\",\"replyCount\",\n",
    "             \"retweetCount\", \"likeCount\", \"quoteCount\"], \n",
    "        axis=1, inplace=True)\n",
    "    \n",
    "    # remove duplicate comments\n",
    "    df.drop_duplicates(subset=[\"rawContent\"], keep=\"first\", inplace=True)\n",
    "    \n",
    "    # remove special characters and punctuations\n",
    "    df[\"processed_content\"] = df[\"rawContent\"].apply(lambda x: re.sub(r'[^\\w\\s]', '', str(x)))\n",
    "    \n",
    "    # convert text to lowercase\n",
    "    df[\"processed_content\"] = df[\"processed_content\"].apply(lambda x: x.lower())\n",
    "    \n",
    "    # tokenize the text data\n",
    "    df[\"tokenized_content\"] = df[\"processed_content\"].apply(lambda x: word_tokenize(x))\n",
    "    \n",
    "    # remove stop words\n",
    "    stop_words = set(stopwords.words(\"english\"))\n",
    "    df[\"tokenized_content\"] = df[\"tokenized_content\"].apply(lambda x: [word for word in x if word not in stop_words])\n",
    "    \n",
    "    # perform stemming\n",
    "    ps = PorterStemmer()\n",
    "    df[\"tokenized_content\"] = df[\"tokenized_content\"].apply(lambda x: [ps.stem(word) for word in x])\n",
    "    \n",
    "    # join the stemmed words to form the final processed text\n",
    "    df[\"processed_content\"] = df[\"tokenized_content\"].apply(lambda x: \" \".join(x))\n",
    "    \n",
    "    # save the processed data to a new csv file\n",
    "    df.to_csv(\"processed_comments.csv\", index=False)\n",
    "\n",
    "    \n",
    "    return df"
   ]
  },
  {
   "cell_type": "code",
   "execution_count": 27,
   "id": "46e35ecd",
   "metadata": {
    "scrolled": true
   },
   "outputs": [
    {
     "data": {
      "text/html": [
       "<div>\n",
       "<style scoped>\n",
       "    .dataframe tbody tr th:only-of-type {\n",
       "        vertical-align: middle;\n",
       "    }\n",
       "\n",
       "    .dataframe tbody tr th {\n",
       "        vertical-align: top;\n",
       "    }\n",
       "\n",
       "    .dataframe thead th {\n",
       "        text-align: right;\n",
       "    }\n",
       "</style>\n",
       "<table border=\"1\" class=\"dataframe\">\n",
       "  <thead>\n",
       "    <tr style=\"text-align: right;\">\n",
       "      <th></th>\n",
       "      <th>date</th>\n",
       "      <th>rawContent</th>\n",
       "      <th>processed_content</th>\n",
       "      <th>tokenized_content</th>\n",
       "    </tr>\n",
       "  </thead>\n",
       "  <tbody>\n",
       "    <tr>\n",
       "      <th>0</th>\n",
       "      <td>2023-03-23 15:46:29+00:00</td>\n",
       "      <td>I'd still say all seasons except season 8</td>\n",
       "      <td>id still say season except season 8</td>\n",
       "      <td>[id, still, say, season, except, season, 8]</td>\n",
       "    </tr>\n",
       "    <tr>\n",
       "      <th>1</th>\n",
       "      <td>2023-03-14 23:13:15+00:00</td>\n",
       "      <td>la cuarta y la sexta sí o sí</td>\n",
       "      <td>la cuarta la sexta sí sí</td>\n",
       "      <td>[la, cuarta, la, sexta, sí, sí]</td>\n",
       "    </tr>\n",
       "    <tr>\n",
       "      <th>2</th>\n",
       "      <td>2023-03-13 16:18:20+00:00</td>\n",
       "      <td>Season 4 &amp;amp; 6</td>\n",
       "      <td>season 4 amp 6</td>\n",
       "      <td>[season, 4, amp, 6]</td>\n",
       "    </tr>\n",
       "    <tr>\n",
       "      <th>3</th>\n",
       "      <td>2023-03-12 17:32:58+00:00</td>\n",
       "      <td>1,3 e 4 o resto é trash</td>\n",
       "      <td>13 e 4 resto é trash</td>\n",
       "      <td>[13, e, 4, resto, é, trash]</td>\n",
       "    </tr>\n",
       "    <tr>\n",
       "      <th>4</th>\n",
       "      <td>2023-03-12 14:47:37+00:00</td>\n",
       "      <td>O poster da segunda e da sétima é putaria</td>\n",
       "      <td>poster da segunda e da sétima é putaria</td>\n",
       "      <td>[poster, da, segunda, e, da, sétima, é, putaria]</td>\n",
       "    </tr>\n",
       "    <tr>\n",
       "      <th>...</th>\n",
       "      <td>...</td>\n",
       "      <td>...</td>\n",
       "      <td>...</td>\n",
       "      <td>...</td>\n",
       "    </tr>\n",
       "    <tr>\n",
       "      <th>683</th>\n",
       "      <td>2023-03-05 16:52:28+00:00</td>\n",
       "      <td>4 ama 6</td>\n",
       "      <td>4 ama 6</td>\n",
       "      <td>[4, ama, 6]</td>\n",
       "    </tr>\n",
       "    <tr>\n",
       "      <th>684</th>\n",
       "      <td>2023-03-05 16:51:59+00:00</td>\n",
       "      <td>4 e 6</td>\n",
       "      <td>4 e 6</td>\n",
       "      <td>[4, e, 6]</td>\n",
       "    </tr>\n",
       "    <tr>\n",
       "      <th>685</th>\n",
       "      <td>2023-03-05 16:51:50+00:00</td>\n",
       "      <td>season4,6</td>\n",
       "      <td>season46</td>\n",
       "      <td>[season46]</td>\n",
       "    </tr>\n",
       "    <tr>\n",
       "      <th>686</th>\n",
       "      <td>2023-03-05 16:51:39+00:00</td>\n",
       "      <td>La saison 4, sans aucun débat possible.</td>\n",
       "      <td>la saison 4 san aucun débat possibl</td>\n",
       "      <td>[la, saison, 4, san, aucun, débat, possibl]</td>\n",
       "    </tr>\n",
       "    <tr>\n",
       "      <th>687</th>\n",
       "      <td>2023-03-05 16:50:40+00:00</td>\n",
       "      <td>Which Game Of Thrones season is the most re-wa...</td>\n",
       "      <td>game throne season rewatch httpstcovl2avrxstt</td>\n",
       "      <td>[game, throne, season, rewatch, httpstcovl2avr...</td>\n",
       "    </tr>\n",
       "  </tbody>\n",
       "</table>\n",
       "<p>609 rows × 4 columns</p>\n",
       "</div>"
      ],
      "text/plain": [
       "                          date  \\\n",
       "0    2023-03-23 15:46:29+00:00   \n",
       "1    2023-03-14 23:13:15+00:00   \n",
       "2    2023-03-13 16:18:20+00:00   \n",
       "3    2023-03-12 17:32:58+00:00   \n",
       "4    2023-03-12 14:47:37+00:00   \n",
       "..                         ...   \n",
       "683  2023-03-05 16:52:28+00:00   \n",
       "684  2023-03-05 16:51:59+00:00   \n",
       "685  2023-03-05 16:51:50+00:00   \n",
       "686  2023-03-05 16:51:39+00:00   \n",
       "687  2023-03-05 16:50:40+00:00   \n",
       "\n",
       "                                            rawContent  \\\n",
       "0            I'd still say all seasons except season 8   \n",
       "1                         la cuarta y la sexta sí o sí   \n",
       "2                                     Season 4 &amp; 6   \n",
       "3                              1,3 e 4 o resto é trash   \n",
       "4            O poster da segunda e da sétima é putaria   \n",
       "..                                                 ...   \n",
       "683                                            4 ama 6   \n",
       "684                                              4 e 6   \n",
       "685                                          season4,6   \n",
       "686            La saison 4, sans aucun débat possible.   \n",
       "687  Which Game Of Thrones season is the most re-wa...   \n",
       "\n",
       "                                 processed_content  \\\n",
       "0              id still say season except season 8   \n",
       "1                         la cuarta la sexta sí sí   \n",
       "2                                   season 4 amp 6   \n",
       "3                             13 e 4 resto é trash   \n",
       "4          poster da segunda e da sétima é putaria   \n",
       "..                                             ...   \n",
       "683                                        4 ama 6   \n",
       "684                                          4 e 6   \n",
       "685                                       season46   \n",
       "686            la saison 4 san aucun débat possibl   \n",
       "687  game throne season rewatch httpstcovl2avrxstt   \n",
       "\n",
       "                                     tokenized_content  \n",
       "0          [id, still, say, season, except, season, 8]  \n",
       "1                      [la, cuarta, la, sexta, sí, sí]  \n",
       "2                                  [season, 4, amp, 6]  \n",
       "3                          [13, e, 4, resto, é, trash]  \n",
       "4     [poster, da, segunda, e, da, sétima, é, putaria]  \n",
       "..                                                 ...  \n",
       "683                                        [4, ama, 6]  \n",
       "684                                          [4, e, 6]  \n",
       "685                                         [season46]  \n",
       "686        [la, saison, 4, san, aucun, débat, possibl]  \n",
       "687  [game, throne, season, rewatch, httpstcovl2avr...  \n",
       "\n",
       "[609 rows x 4 columns]"
      ]
     },
     "execution_count": 27,
     "metadata": {},
     "output_type": "execute_result"
    }
   ],
   "source": [
    "preprocess_data(df)"
   ]
  },
  {
   "cell_type": "code",
   "execution_count": 28,
   "id": "6997ca8d",
   "metadata": {},
   "outputs": [],
   "source": [
    "\n",
    "df['season'] = df['processed_content'].apply(lambda x: re.findall(r'season\\s+(\\d)', x)[0] if re.findall(r'season\\s+(\\d)', x) else None)\n"
   ]
  },
  {
   "cell_type": "code",
   "execution_count": 29,
   "id": "05aa2c73",
   "metadata": {},
   "outputs": [],
   "source": [
    "# sorting the dataset based on the season number (starting from -> 1,2,... 7,8,None)\n",
    "df = df.sort_values('season', ascending=True)"
   ]
  },
  {
   "cell_type": "code",
   "execution_count": 30,
   "id": "9c7ff909",
   "metadata": {
    "scrolled": true
   },
   "outputs": [
    {
     "data": {
      "text/html": [
       "<div>\n",
       "<style scoped>\n",
       "    .dataframe tbody tr th:only-of-type {\n",
       "        vertical-align: middle;\n",
       "    }\n",
       "\n",
       "    .dataframe tbody tr th {\n",
       "        vertical-align: top;\n",
       "    }\n",
       "\n",
       "    .dataframe thead th {\n",
       "        text-align: right;\n",
       "    }\n",
       "</style>\n",
       "<table border=\"1\" class=\"dataframe\">\n",
       "  <thead>\n",
       "    <tr style=\"text-align: right;\">\n",
       "      <th></th>\n",
       "      <th>date</th>\n",
       "      <th>rawContent</th>\n",
       "      <th>processed_content</th>\n",
       "      <th>tokenized_content</th>\n",
       "      <th>season</th>\n",
       "    </tr>\n",
       "  </thead>\n",
       "  <tbody>\n",
       "    <tr>\n",
       "      <th>324</th>\n",
       "      <td>2023-03-05 20:42:58+00:00</td>\n",
       "      <td>Shoot seasons 1-6</td>\n",
       "      <td>shoot season 16</td>\n",
       "      <td>[shoot, season, 16]</td>\n",
       "      <td>1</td>\n",
       "    </tr>\n",
       "    <tr>\n",
       "      <th>455</th>\n",
       "      <td>2023-03-05 18:39:25+00:00</td>\n",
       "      <td>i think season 1 to 4 was great... still waiti...</td>\n",
       "      <td>think season 1 4 great still wait proper season 8</td>\n",
       "      <td>[think, season, 1, 4, great, still, wait, prop...</td>\n",
       "      <td>1</td>\n",
       "    </tr>\n",
       "    <tr>\n",
       "      <th>182</th>\n",
       "      <td>2023-03-06 01:54:49+00:00</td>\n",
       "      <td>Can't pick a specific season but 1-4 is 🥵🔥</td>\n",
       "      <td>cant pick specif season 14</td>\n",
       "      <td>[cant, pick, specif, season, 14]</td>\n",
       "      <td>1</td>\n",
       "    </tr>\n",
       "    <tr>\n",
       "      <th>486</th>\n",
       "      <td>2023-03-05 18:14:07+00:00</td>\n",
       "      <td>Season 1</td>\n",
       "      <td>season 1</td>\n",
       "      <td>[season, 1]</td>\n",
       "      <td>1</td>\n",
       "    </tr>\n",
       "    <tr>\n",
       "      <th>158</th>\n",
       "      <td>2023-03-06 03:43:52+00:00</td>\n",
       "      <td>A season 1 e 6 p mim são perfeitas, uma em nar...</td>\n",
       "      <td>season 1 e 6 p mim são perfeita uma em narrati...</td>\n",
       "      <td>[season, 1, e, 6, p, mim, são, perfeita, uma, ...</td>\n",
       "      <td>1</td>\n",
       "    </tr>\n",
       "  </tbody>\n",
       "</table>\n",
       "</div>"
      ],
      "text/plain": [
       "                          date  \\\n",
       "324  2023-03-05 20:42:58+00:00   \n",
       "455  2023-03-05 18:39:25+00:00   \n",
       "182  2023-03-06 01:54:49+00:00   \n",
       "486  2023-03-05 18:14:07+00:00   \n",
       "158  2023-03-06 03:43:52+00:00   \n",
       "\n",
       "                                            rawContent  \\\n",
       "324                                  Shoot seasons 1-6   \n",
       "455  i think season 1 to 4 was great... still waiti...   \n",
       "182         Can't pick a specific season but 1-4 is 🥵🔥   \n",
       "486                                           Season 1   \n",
       "158  A season 1 e 6 p mim são perfeitas, uma em nar...   \n",
       "\n",
       "                                     processed_content  \\\n",
       "324                                    shoot season 16   \n",
       "455  think season 1 4 great still wait proper season 8   \n",
       "182                         cant pick specif season 14   \n",
       "486                                           season 1   \n",
       "158  season 1 e 6 p mim são perfeita uma em narrati...   \n",
       "\n",
       "                                     tokenized_content season  \n",
       "324                                [shoot, season, 16]      1  \n",
       "455  [think, season, 1, 4, great, still, wait, prop...      1  \n",
       "182                   [cant, pick, specif, season, 14]      1  \n",
       "486                                        [season, 1]      1  \n",
       "158  [season, 1, e, 6, p, mim, são, perfeita, uma, ...      1  "
      ]
     },
     "execution_count": 30,
     "metadata": {},
     "output_type": "execute_result"
    }
   ],
   "source": [
    "df.head()"
   ]
  },
  {
   "cell_type": "markdown",
   "id": "5ec0a46d",
   "metadata": {},
   "source": [
    "### Performing Sentiment Analysis Using VADER"
   ]
  },
  {
   "cell_type": "code",
   "execution_count": 31,
   "id": "4cf5aaca",
   "metadata": {},
   "outputs": [],
   "source": [
    "analyzer = SentimentIntensityAnalyzer() \n",
    "\n",
    "def sentiment(df):\n",
    "    sentiment_scores = []\n",
    "    for text in df['processed_content']:\n",
    "        scores = analyzer.polarity_scores(text)\n",
    "        sentiment_scores.append(scores['compound'])\n",
    "    df['sentiment_score'] = sentiment_scores\n",
    "    sns.set_style('whitegrid')\n",
    "    sns.lineplot(x='season',y='sentiment_score',data=df)\n",
    "    "
   ]
  },
  {
   "cell_type": "code",
   "execution_count": 32,
   "id": "2c8576de",
   "metadata": {},
   "outputs": [
    {
     "data": {
      "image/png": "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\n",
      "text/plain": [
       "<Figure size 432x288 with 1 Axes>"
      ]
     },
     "metadata": {},
     "output_type": "display_data"
    }
   ],
   "source": [
    "sentiment(df)"
   ]
  },
  {
   "cell_type": "markdown",
   "id": "896b340f",
   "metadata": {},
   "source": [
    "Therefore, Season 5 seems to be the most re-watchable."
   ]
  },
  {
   "cell_type": "code",
   "execution_count": null,
   "id": "fb9fd1c5",
   "metadata": {},
   "outputs": [],
   "source": []
  }
 ],
 "metadata": {
  "kernelspec": {
   "display_name": "Python 3 (ipykernel)",
   "language": "python",
   "name": "python3"
  },
  "language_info": {
   "codemirror_mode": {
    "name": "ipython",
    "version": 3
   },
   "file_extension": ".py",
   "mimetype": "text/x-python",
   "name": "python",
   "nbconvert_exporter": "python",
   "pygments_lexer": "ipython3",
   "version": "3.9.12"
  }
 },
 "nbformat": 4,
 "nbformat_minor": 5
}
